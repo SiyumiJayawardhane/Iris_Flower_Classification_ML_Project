{
  "nbformat": 4,
  "nbformat_minor": 0,
  "metadata": {
    "colab": {
      "provenance": [],
      "authorship_tag": "ABX9TyPEhmZ9pa0KimvULe0JAZit",
      "include_colab_link": true
    },
    "kernelspec": {
      "name": "python3",
      "display_name": "Python 3"
    },
    "language_info": {
      "name": "python"
    }
  },
  "cells": [
    {
      "cell_type": "markdown",
      "metadata": {
        "id": "view-in-github",
        "colab_type": "text"
      },
      "source": [
        "<a href=\"https://colab.research.google.com/github/SiyumiJayawardhane/Iris_Flower_Classification_ML_Project/blob/Feature-Specific/IFC_Data_Preprocessing.ipynb\" target=\"_parent\"><img src=\"https://colab.research.google.com/assets/colab-badge.svg\" alt=\"Open In Colab\"/></a>"
      ]
    },
    {
      "cell_type": "markdown",
      "source": [
        "# **Import Libraries**"
      ],
      "metadata": {
        "id": "MAXrxB-LcOS5"
      }
    },
    {
      "cell_type": "code",
      "execution_count": 2,
      "metadata": {
        "id": "iDCCOv9q4_SG"
      },
      "outputs": [],
      "source": [
        "import pandas as pd #Used for data manipulation and analysis - load, process and manage datasets\n",
        "import matplotlib.pyplot as plt #Provides tools for visualizing data through graphs and charts - plotting library\n",
        "import seaborn as sns #Enhances data visualization with statistical graphics build on Matplotlib\n",
        "from sklearn.model_selection import train_test_split #Splits the dataset into training and testing sets for evaluation\n",
        "from sklearn.neighbors import KNeighborsClassifier #Implements the K- Nearest Neighbors(KNN) classification algorithm\n",
        "from sklearn.metrics import classification_report, accuracy_score #Classification_report: Generates a detailed report on model performance (precision, recall, F1-score)\n",
        "# accuracy_score: Calculates the accuracy of the classification model"
      ]
    }
  ]
}