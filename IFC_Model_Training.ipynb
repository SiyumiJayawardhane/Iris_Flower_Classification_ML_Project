{
  "nbformat": 4,
  "nbformat_minor": 0,
  "metadata": {
    "colab": {
      "provenance": [],
      "authorship_tag": "ABX9TyMg7dU6Udmi277N4YhcWlfN",
      "include_colab_link": true
    },
    "kernelspec": {
      "name": "python3",
      "display_name": "Python 3"
    },
    "language_info": {
      "name": "python"
    }
  },
  "cells": [
    {
      "cell_type": "markdown",
      "metadata": {
        "id": "view-in-github",
        "colab_type": "text"
      },
      "source": [
        "<a href=\"https://colab.research.google.com/github/SiyumiJayawardhane/Iris_Flower_Classification_ML_Project/blob/Model_training/IFC_Model_Training.ipynb\" target=\"_parent\"><img src=\"https://colab.research.google.com/assets/colab-badge.svg\" alt=\"Open In Colab\"/></a>"
      ]
    },
    {
      "cell_type": "code",
      "execution_count": 1,
      "metadata": {
        "id": "IQ3eFjfQ7pKE"
      },
      "outputs": [],
      "source": [
        "# Import Libraries\n",
        "import pandas as pd\n",
        "import numpy as np\n",
        "import matplotlib.pyplot as plt\n",
        "import seaborn as sns\n",
        "from sklearn.model_selection import train_test_split\n",
        "from sklearn.preprocessing import StandardScaler\n",
        "from sklearn.linear_model import LogisticRegression\n",
        "from sklearn.neighbors import KNeighborsClassifier\n",
        "from sklearn.metrics import accuracy_score, classification_report, confusion_matrix"
      ]
    },
    {
      "cell_type": "code",
      "source": [
        "#Mount drive\n",
        "from google.colab import drive\n",
        "drive.mount('/content/drive')"
      ],
      "metadata": {
        "colab": {
          "base_uri": "https://localhost:8080/"
        },
        "id": "vkrKqyPIE_dD",
        "outputId": "b8b9cdad-afdd-45d8-df18-4c155c91b0b1"
      },
      "execution_count": 2,
      "outputs": [
        {
          "output_type": "stream",
          "name": "stdout",
          "text": [
            "Mounted at /content/drive\n"
          ]
        }
      ]
    },
    {
      "cell_type": "code",
      "source": [
        "# Load Cleaned Dataset\n",
        "data_path = \"/content/drive/MyDrive/Projects/IFC/cleaned_iris.csv\"\n",
        "data = pd.read_csv(data_path)"
      ],
      "metadata": {
        "id": "qhD0cNEzFDzQ"
      },
      "execution_count": 3,
      "outputs": []
    },
    {
      "cell_type": "code",
      "source": [
        "# Splitting Features and Target\n",
        "X = data.drop(columns=['Species'])\n",
        "y = data['Species']"
      ],
      "metadata": {
        "id": "nR7g5-ZmFOFx"
      },
      "execution_count": 4,
      "outputs": []
    },
    {
      "cell_type": "code",
      "source": [
        "# Train-Test Split\n",
        "X_train, X_test, y_train, y_test = train_test_split(X, y, test_size=0.2, random_state=42)"
      ],
      "metadata": {
        "id": "VxSlo9yyGSlh"
      },
      "execution_count": 5,
      "outputs": []
    },
    {
      "cell_type": "code",
      "source": [
        "# Standardization\n",
        "scaler = StandardScaler()\n",
        "X_train = scaler.fit_transform(X_train)\n",
        "X_test = scaler.transform(X_test)"
      ],
      "metadata": {
        "id": "cNqHzJ38Ggdo"
      },
      "execution_count": 6,
      "outputs": []
    },
    {
      "cell_type": "markdown",
      "source": [
        "# Logistic Regression"
      ],
      "metadata": {
        "id": "opfFMkafHIhY"
      }
    },
    {
      "cell_type": "code",
      "source": [
        "# Logistic Regression Model\n",
        "log_reg = LogisticRegression()\n",
        "log_reg.fit(X_train, y_train)\n",
        "y_train_pred_log_reg = log_reg.predict(X_train)\n",
        "y_test_pred_log_reg = log_reg.predict(X_test)"
      ],
      "metadata": {
        "id": "AW67aF9xGtyW"
      },
      "execution_count": 7,
      "outputs": []
    },
    {
      "cell_type": "code",
      "source": [
        "# Evaluate Logistic Regression\n",
        "print(\"Logistic Regression Accuracy (Train):\", accuracy_score(y_train, y_train_pred_log_reg))\n",
        "print(\"Classification Report (Train):\\n\", classification_report(y_train, y_train_pred_log_reg))\n",
        "print(\"Logistic Regression Accuracy (Test):\", accuracy_score(y_test, y_test_pred_log_reg))\n",
        "print(\"Classification Report (Test):\\n\", classification_report(y_test, y_test_pred_log_reg))\n",
        "print(\"Confusion Matrix (Test):\\n\", confusion_matrix(y_test, y_test_pred_log_reg))"
      ],
      "metadata": {
        "colab": {
          "base_uri": "https://localhost:8080/"
        },
        "id": "IwLmhNKOHN3X",
        "outputId": "507d2e84-cd29-4e22-f06b-5e6489cbf77d"
      },
      "execution_count": 8,
      "outputs": [
        {
          "output_type": "stream",
          "name": "stdout",
          "text": [
            "Logistic Regression Accuracy (Train): 0.9736842105263158\n",
            "Classification Report (Train):\n",
            "               precision    recall  f1-score   support\n",
            "\n",
            "           0       1.00      1.00      1.00        37\n",
            "           1       0.95      0.97      0.96        38\n",
            "           2       0.97      0.95      0.96        39\n",
            "\n",
            "    accuracy                           0.97       114\n",
            "   macro avg       0.97      0.97      0.97       114\n",
            "weighted avg       0.97      0.97      0.97       114\n",
            "\n",
            "Logistic Regression Accuracy (Test): 0.896551724137931\n",
            "Classification Report (Test):\n",
            "               precision    recall  f1-score   support\n",
            "\n",
            "           0       1.00      1.00      1.00         8\n",
            "           1       0.83      0.91      0.87        11\n",
            "           2       0.89      0.80      0.84        10\n",
            "\n",
            "    accuracy                           0.90        29\n",
            "   macro avg       0.91      0.90      0.90        29\n",
            "weighted avg       0.90      0.90      0.90        29\n",
            "\n",
            "Confusion Matrix (Test):\n",
            " [[ 8  0  0]\n",
            " [ 0 10  1]\n",
            " [ 0  2  8]]\n"
          ]
        }
      ]
    },
    {
      "cell_type": "code",
      "source": [
        "# Save Logistic Regression Model\n",
        "import joblib\n",
        "joblib.dump(log_reg, \"/content/drive/MyDrive/Projects/IFC/logistic_regression_model.pkl\")"
      ],
      "metadata": {
        "colab": {
          "base_uri": "https://localhost:8080/"
        },
        "id": "4X1bQoMjHQoX",
        "outputId": "7ac7633b-1daf-4f38-8fc7-5f959b6af219"
      },
      "execution_count": 10,
      "outputs": [
        {
          "output_type": "execute_result",
          "data": {
            "text/plain": [
              "['/content/drive/MyDrive/Projects/IFC/logistic_regression_model.pkl']"
            ]
          },
          "metadata": {},
          "execution_count": 10
        }
      ]
    },
    {
      "cell_type": "markdown",
      "source": [
        "# K-Nearest Neighbors"
      ],
      "metadata": {
        "id": "zvMaarzIHYex"
      }
    },
    {
      "cell_type": "code",
      "source": [
        "# K-Nearest Neighbors Model\n",
        "knn = KNeighborsClassifier(n_neighbors=5)\n",
        "knn.fit(X_train, y_train)\n",
        "y_train_pred_knn = knn.predict(X_train)\n",
        "y_test_pred_knn = knn.predict(X_test)"
      ],
      "metadata": {
        "id": "QbCKql26HT-K"
      },
      "execution_count": 11,
      "outputs": []
    },
    {
      "cell_type": "code",
      "source": [
        "# Evaluate KNN\n",
        "print(\"KNN Accuracy (Train):\", accuracy_score(y_train, y_train_pred_knn))\n",
        "print(\"Classification Report (Train):\\n\", classification_report(y_train, y_train_pred_knn))\n",
        "print(\"KNN Accuracy (Test):\", accuracy_score(y_test, y_test_pred_knn))\n",
        "print(\"Classification Report (Test):\\n\", classification_report(y_test, y_test_pred_knn))\n",
        "print(\"Confusion Matrix (Test):\\n\", confusion_matrix(y_test, y_test_pred_knn))"
      ],
      "metadata": {
        "colab": {
          "base_uri": "https://localhost:8080/"
        },
        "id": "5iwHVXijHlQ5",
        "outputId": "cdba4e34-b35f-4f87-cba9-aa0dd63fc55e"
      },
      "execution_count": 12,
      "outputs": [
        {
          "output_type": "stream",
          "name": "stdout",
          "text": [
            "KNN Accuracy (Train): 0.9649122807017544\n",
            "Classification Report (Train):\n",
            "               precision    recall  f1-score   support\n",
            "\n",
            "           0       1.00      0.97      0.99        37\n",
            "           1       0.93      0.97      0.95        38\n",
            "           2       0.97      0.95      0.96        39\n",
            "\n",
            "    accuracy                           0.96       114\n",
            "   macro avg       0.97      0.97      0.97       114\n",
            "weighted avg       0.97      0.96      0.97       114\n",
            "\n",
            "KNN Accuracy (Test): 0.896551724137931\n",
            "Classification Report (Test):\n",
            "               precision    recall  f1-score   support\n",
            "\n",
            "           0       1.00      1.00      1.00         8\n",
            "           1       0.83      0.91      0.87        11\n",
            "           2       0.89      0.80      0.84        10\n",
            "\n",
            "    accuracy                           0.90        29\n",
            "   macro avg       0.91      0.90      0.90        29\n",
            "weighted avg       0.90      0.90      0.90        29\n",
            "\n",
            "Confusion Matrix (Test):\n",
            " [[ 8  0  0]\n",
            " [ 0 10  1]\n",
            " [ 0  2  8]]\n"
          ]
        }
      ]
    },
    {
      "cell_type": "code",
      "source": [
        "# Save KNN Model\n",
        "joblib.dump(knn, \"/content/drive/MyDrive/Projects/IFC/knn_model.pkl\")"
      ],
      "metadata": {
        "colab": {
          "base_uri": "https://localhost:8080/"
        },
        "id": "7TCbrRcfHnlY",
        "outputId": "5085a24a-320e-4ae1-c12a-b0d7c97f52c3"
      },
      "execution_count": 13,
      "outputs": [
        {
          "output_type": "execute_result",
          "data": {
            "text/plain": [
              "['/content/drive/MyDrive/Projects/IFC/knn_model.pkl']"
            ]
          },
          "metadata": {},
          "execution_count": 13
        }
      ]
    }
  ]
}